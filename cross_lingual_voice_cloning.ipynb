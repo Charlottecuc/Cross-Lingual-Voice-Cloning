{
  "nbformat": 4,
  "nbformat_minor": 0,
  "metadata": {
    "colab": {
      "name": "cross_lingual_voice_cloning.ipynb",
      "provenance": [],
      "collapsed_sections": [],
      "mount_file_id": "17gALcrUI8VVXvJsA2-5nsdGkGyoQ9Z2E",
      "authorship_tag": "ABX9TyOFktLOZzofl3t6OjmYJhUV",
      "include_colab_link": true
    },
    "kernelspec": {
      "name": "python3",
      "display_name": "Python 3"
    }
  },
  "cells": [
    {
      "cell_type": "markdown",
      "metadata": {
        "id": "view-in-github",
        "colab_type": "text"
      },
      "source": [
        "<a href=\"https://colab.research.google.com/github/Jeevesh8/Cross-Lingual-Voice-Cloning/blob/master/cross_lingual_voice_cloning.ipynb\" target=\"_parent\"><img src=\"https://colab.research.google.com/assets/colab-badge.svg\" alt=\"Open In Colab\"/></a>"
      ]
    },
    {
      "cell_type": "code",
      "metadata": {
        "id": "difDY-oMceVI",
        "colab_type": "code",
        "outputId": "5642bbd4-063b-46fb-f825-c57b2164df16",
        "colab": {
          "base_uri": "https://localhost:8080/",
          "height": 34
        }
      },
      "source": [
        "%cd '/content/drive/My Drive/'"
      ],
      "execution_count": 0,
      "outputs": [
        {
          "output_type": "stream",
          "text": [
            "/content/drive/My Drive\n"
          ],
          "name": "stdout"
        }
      ]
    },
    {
      "cell_type": "code",
      "metadata": {
        "id": "6ew_JScofHup",
        "colab_type": "code",
        "colab": {}
      },
      "source": [
        "!git clone https://github.com/Jeevesh8/Cross-Lingual-Voice-Cloning"
      ],
      "execution_count": 0,
      "outputs": []
    },
    {
      "cell_type": "code",
      "metadata": {
        "id": "4LzosgsfsRN-",
        "colab_type": "code",
        "colab": {}
      },
      "source": [
        "##To Install Apex\n",
        "%cd /content/drive/My\\ Drive/\n",
        "!git clone https://github.com/NVIDIA/apex\n",
        "%cd apex\n",
        "!pip install -v --no-cache-dir ./\n",
        "%cd /content/drive/My\\ Drive"
      ],
      "execution_count": 0,
      "outputs": []
    },
    {
      "cell_type": "code",
      "metadata": {
        "id": "czzuHjLKdMVe",
        "colab_type": "code",
        "outputId": "7d9b5997-32cd-4418-da60-c8fed58af037",
        "colab": {
          "base_uri": "https://localhost:8080/",
          "height": 34
        }
      },
      "source": [
        "%cd Cross-Lingual-Voice-Cloning/"
      ],
      "execution_count": 0,
      "outputs": [
        {
          "output_type": "stream",
          "text": [
            "/content/drive/My Drive/Cross-Lingual-Voice-Cloning\n"
          ],
          "name": "stdout"
        }
      ]
    },
    {
      "cell_type": "markdown",
      "metadata": {
        "id": "L8Jxa5fknTVp",
        "colab_type": "text"
      },
      "source": [
        "Change \" train_txt_file_path \" and \" val_txt_file_path \" in hparams.py"
      ]
    },
    {
      "cell_type": "code",
      "metadata": {
        "id": "WTYYnt6DfJNW",
        "colab_type": "code",
        "outputId": "a233bb65-2e6e-4e61-ef36-ebf2fd7baa98",
        "colab": {
          "base_uri": "https://localhost:8080/",
          "height": 225
        }
      },
      "source": [
        "!git pull origin master"
      ],
      "execution_count": 0,
      "outputs": [
        {
          "output_type": "stream",
          "text": [
            "remote: Enumerating objects: 7, done.\u001b[K\n",
            "remote: Counting objects:  14% (1/7)\u001b[K\rremote: Counting objects:  28% (2/7)\u001b[K\rremote: Counting objects:  42% (3/7)\u001b[K\rremote: Counting objects:  57% (4/7)\u001b[K\rremote: Counting objects:  71% (5/7)\u001b[K\rremote: Counting objects:  85% (6/7)\u001b[K\rremote: Counting objects: 100% (7/7)\u001b[K\rremote: Counting objects: 100% (7/7), done.\u001b[K\n",
            "remote: Compressing objects: 100% (1/1)\u001b[K\rremote: Compressing objects: 100% (1/1), done.\u001b[K\n",
            "remote: Total 4 (delta 3), reused 4 (delta 3), pack-reused 0\u001b[K\n",
            "Unpacking objects:  25% (1/4)   \rUnpacking objects:  50% (2/4)   \rUnpacking objects:  75% (3/4)   \rUnpacking objects: 100% (4/4)   \rUnpacking objects: 100% (4/4), done.\n",
            "From https://github.com/Jeevesh8/Cross-Lingual-Voice-Cloning\n",
            " * branch            master     -> FETCH_HEAD\n",
            "   d45c784..4469f21  master     -> origin/master\n",
            "Updating d45c784..4469f21\n",
            "Fast-forward\n",
            " text/symbols.py | 3 \u001b[32m+++\u001b[m\n",
            " 1 file changed, 3 insertions(+)\n"
          ],
          "name": "stdout"
        }
      ]
    },
    {
      "cell_type": "code",
      "metadata": {
        "id": "D04kp34FdQpC",
        "colab_type": "code",
        "colab": {}
      },
      "source": [
        "!git submodule init\n",
        "!git submodule update"
      ],
      "execution_count": 0,
      "outputs": []
    },
    {
      "cell_type": "code",
      "metadata": {
        "id": "V4fFU31pgF2W",
        "colab_type": "code",
        "outputId": "1f8c4059-c3b3-47d3-8f1a-a64aba4c85ba",
        "colab": {
          "base_uri": "https://localhost:8080/",
          "height": 34
        }
      },
      "source": [
        "%cd ..\n",
        "!mkdir log_dir"
      ],
      "execution_count": 0,
      "outputs": [
        {
          "output_type": "stream",
          "text": [
            "/content/drive/My Drive\n"
          ],
          "name": "stdout"
        }
      ]
    },
    {
      "cell_type": "code",
      "metadata": {
        "id": "7j4I3pLKChUG",
        "colab_type": "code",
        "outputId": "123aba05-fefd-4e3b-9993-2760ee9cc3b5",
        "colab": {
          "base_uri": "https://localhost:8080/",
          "height": 34
        }
      },
      "source": [
        "!mkdir out_dir\n",
        "%cd Cross-Lingual-Voice-Cloning"
      ],
      "execution_count": 0,
      "outputs": [
        {
          "output_type": "stream",
          "text": [
            "/content/drive/My Drive/Cross-Lingual-Voice-Cloning\n"
          ],
          "name": "stdout"
        }
      ]
    },
    {
      "cell_type": "code",
      "metadata": {
        "id": "9mY5tpKUC27R",
        "colab_type": "code",
        "colab": {}
      },
      "source": [
        "!pip install Unidecode"
      ],
      "execution_count": 0,
      "outputs": []
    },
    {
      "cell_type": "code",
      "metadata": {
        "id": "tciOhWDqnOLy",
        "colab_type": "code",
        "colab": {}
      },
      "source": [
        "!pip install tensorflow==1.15.2"
      ],
      "execution_count": 0,
      "outputs": []
    },
    {
      "cell_type": "code",
      "metadata": {
        "id": "pclx0tWLC8uY",
        "colab_type": "code",
        "outputId": "ff7e7e2a-3ee7-45bd-8e3c-1a4ddac00e30",
        "colab": {
          "base_uri": "https://localhost:8080/",
          "height": 124
        }
      },
      "source": [
        "!python train.py --output_directory=../out_dir --log_directory=../log_dir"
      ],
      "execution_count": 0,
      "outputs": [
        {
          "output_type": "stream",
          "text": [
            "RuntimeError: module compiled against API version 0xc but this version of numpy is 0xb\n",
            "ImportError: numpy.core.multiarray failed to import\n",
            "ImportError: numpy.core.umath failed to import\n",
            "ImportError: numpy.core.umath failed to import\n",
            "2020-04-05 11:21:04.431723: F tensorflow/python/lib/core/bfloat16.cc:675] Check failed: PyBfloat16_Type.tp_base != nullptr \n"
          ],
          "name": "stdout"
        }
      ]
    }
  ]
}